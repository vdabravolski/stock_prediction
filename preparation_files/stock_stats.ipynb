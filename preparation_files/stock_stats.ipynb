{
 "cells": [
  {
   "cell_type": "code",
   "execution_count": 34,
   "metadata": {
    "collapsed": true
   },
   "outputs": [],
   "source": [
    "import pandas as pd\n",
    "import quandl\n",
    "import numpy as np\n",
    "import scipy as sp\n",
    "\n",
    "quandl.ApiConfig.api_key = 'h6tfVg1ps54v4bcpc3xz'\n",
    "data = quandl.get_table('WIKI/PRICES', ticker='AAPL')"
   ]
  },
  {
   "cell_type": "code",
   "execution_count": 6,
   "metadata": {},
   "outputs": [
    {
     "data": {
      "text/html": [
       "<div>\n",
       "<style>\n",
       "    .dataframe thead tr:only-child th {\n",
       "        text-align: right;\n",
       "    }\n",
       "\n",
       "    .dataframe thead th {\n",
       "        text-align: left;\n",
       "    }\n",
       "\n",
       "    .dataframe tbody tr th {\n",
       "        vertical-align: top;\n",
       "    }\n",
       "</style>\n",
       "<table border=\"1\" class=\"dataframe\">\n",
       "  <thead>\n",
       "    <tr style=\"text-align: right;\">\n",
       "      <th></th>\n",
       "      <th>ticker</th>\n",
       "      <th>date</th>\n",
       "      <th>open</th>\n",
       "      <th>high</th>\n",
       "      <th>low</th>\n",
       "      <th>close</th>\n",
       "      <th>volume</th>\n",
       "      <th>ex-dividend</th>\n",
       "      <th>split_ratio</th>\n",
       "      <th>adj_open</th>\n",
       "      <th>adj_high</th>\n",
       "      <th>adj_low</th>\n",
       "      <th>adj_close</th>\n",
       "      <th>adj_volume</th>\n",
       "    </tr>\n",
       "    <tr>\n",
       "      <th>None</th>\n",
       "      <th></th>\n",
       "      <th></th>\n",
       "      <th></th>\n",
       "      <th></th>\n",
       "      <th></th>\n",
       "      <th></th>\n",
       "      <th></th>\n",
       "      <th></th>\n",
       "      <th></th>\n",
       "      <th></th>\n",
       "      <th></th>\n",
       "      <th></th>\n",
       "      <th></th>\n",
       "      <th></th>\n",
       "    </tr>\n",
       "  </thead>\n",
       "  <tbody>\n",
       "    <tr>\n",
       "      <th>0</th>\n",
       "      <td>AAPL</td>\n",
       "      <td>1980-12-12</td>\n",
       "      <td>28.75</td>\n",
       "      <td>28.87</td>\n",
       "      <td>28.75</td>\n",
       "      <td>28.75</td>\n",
       "      <td>2093900.0</td>\n",
       "      <td>0.0</td>\n",
       "      <td>1.0</td>\n",
       "      <td>0.424421</td>\n",
       "      <td>0.426193</td>\n",
       "      <td>0.424421</td>\n",
       "      <td>0.424421</td>\n",
       "      <td>117258400.0</td>\n",
       "    </tr>\n",
       "    <tr>\n",
       "      <th>1</th>\n",
       "      <td>AAPL</td>\n",
       "      <td>1980-12-15</td>\n",
       "      <td>27.38</td>\n",
       "      <td>27.38</td>\n",
       "      <td>27.25</td>\n",
       "      <td>27.25</td>\n",
       "      <td>785200.0</td>\n",
       "      <td>0.0</td>\n",
       "      <td>1.0</td>\n",
       "      <td>0.404196</td>\n",
       "      <td>0.404196</td>\n",
       "      <td>0.402277</td>\n",
       "      <td>0.402277</td>\n",
       "      <td>43971200.0</td>\n",
       "    </tr>\n",
       "    <tr>\n",
       "      <th>2</th>\n",
       "      <td>AAPL</td>\n",
       "      <td>1980-12-16</td>\n",
       "      <td>25.37</td>\n",
       "      <td>25.37</td>\n",
       "      <td>25.25</td>\n",
       "      <td>25.25</td>\n",
       "      <td>472000.0</td>\n",
       "      <td>0.0</td>\n",
       "      <td>1.0</td>\n",
       "      <td>0.374524</td>\n",
       "      <td>0.374524</td>\n",
       "      <td>0.372752</td>\n",
       "      <td>0.372752</td>\n",
       "      <td>26432000.0</td>\n",
       "    </tr>\n",
       "    <tr>\n",
       "      <th>3</th>\n",
       "      <td>AAPL</td>\n",
       "      <td>1980-12-17</td>\n",
       "      <td>25.87</td>\n",
       "      <td>26.00</td>\n",
       "      <td>25.87</td>\n",
       "      <td>25.87</td>\n",
       "      <td>385900.0</td>\n",
       "      <td>0.0</td>\n",
       "      <td>1.0</td>\n",
       "      <td>0.381905</td>\n",
       "      <td>0.383824</td>\n",
       "      <td>0.381905</td>\n",
       "      <td>0.381905</td>\n",
       "      <td>21610400.0</td>\n",
       "    </tr>\n",
       "    <tr>\n",
       "      <th>4</th>\n",
       "      <td>AAPL</td>\n",
       "      <td>1980-12-18</td>\n",
       "      <td>26.63</td>\n",
       "      <td>26.75</td>\n",
       "      <td>26.63</td>\n",
       "      <td>26.63</td>\n",
       "      <td>327900.0</td>\n",
       "      <td>0.0</td>\n",
       "      <td>1.0</td>\n",
       "      <td>0.393125</td>\n",
       "      <td>0.394896</td>\n",
       "      <td>0.393125</td>\n",
       "      <td>0.393125</td>\n",
       "      <td>18362400.0</td>\n",
       "    </tr>\n",
       "  </tbody>\n",
       "</table>\n",
       "</div>"
      ],
      "text/plain": [
       "     ticker       date   open   high    low  close     volume  ex-dividend  \\\n",
       "None                                                                         \n",
       "0      AAPL 1980-12-12  28.75  28.87  28.75  28.75  2093900.0          0.0   \n",
       "1      AAPL 1980-12-15  27.38  27.38  27.25  27.25   785200.0          0.0   \n",
       "2      AAPL 1980-12-16  25.37  25.37  25.25  25.25   472000.0          0.0   \n",
       "3      AAPL 1980-12-17  25.87  26.00  25.87  25.87   385900.0          0.0   \n",
       "4      AAPL 1980-12-18  26.63  26.75  26.63  26.63   327900.0          0.0   \n",
       "\n",
       "      split_ratio  adj_open  adj_high   adj_low  adj_close   adj_volume  \n",
       "None                                                                     \n",
       "0             1.0  0.424421  0.426193  0.424421   0.424421  117258400.0  \n",
       "1             1.0  0.404196  0.404196  0.402277   0.402277   43971200.0  \n",
       "2             1.0  0.374524  0.374524  0.372752   0.372752   26432000.0  \n",
       "3             1.0  0.381905  0.383824  0.381905   0.381905   21610400.0  \n",
       "4             1.0  0.393125  0.394896  0.393125   0.393125   18362400.0  "
      ]
     },
     "execution_count": 6,
     "metadata": {},
     "output_type": "execute_result"
    }
   ],
   "source": [
    "data.head()"
   ]
  },
  {
   "cell_type": "code",
   "execution_count": 131,
   "metadata": {},
   "outputs": [],
   "source": [
    "returns = data.close.shift(periods=-1)/data.close\n",
    "returns_log = np.log(data.close.shift(periods=-1)/data.close)"
   ]
  },
  {
   "cell_type": "code",
   "execution_count": 136,
   "metadata": {},
   "outputs": [
    {
     "data": {
      "text/plain": [
       "count    9236.000000\n",
       "mean        0.000178\n",
       "std         0.037659\n",
       "min        -1.930035\n",
       "25%        -0.013975\n",
       "50%         0.000000\n",
       "75%         0.015042\n",
       "max         0.286796\n",
       "Name: close, dtype: float64"
      ]
     },
     "execution_count": 136,
     "metadata": {},
     "output_type": "execute_result"
    }
   ],
   "source": [
    "returns_log.describe()"
   ]
  },
  {
   "cell_type": "code",
   "execution_count": 145,
   "metadata": {},
   "outputs": [
    {
     "data": {
      "image/png": "[encoded data removed]",
      "text/plain": [
       "<matplotlib.figure.Figure at 0x116fb7080>"
      ]
     },
     "metadata": {},
     "output_type": "display_data"
    }
   ],
   "source": [
    "%matplotlib inline\n",
    "import matplotlib.pyplot as plt\n",
    "hist, bins = np.histogram(returns_log.dropna(), bins=50)\n",
    "width = 0.7 * (bins[1] - bins[0])\n",
    "center = (bins[:-1] + bins[1:]) / 2\n",
    "plt.bar(center, hist, align='center', width=width)\n",
    "plt.title(\"distribution of log returns\")\n",
    "plt.show()"
   ]
  },
  {
   "cell_type": "code",
   "execution_count": 146,
   "metadata": {},
   "outputs": [
    {
     "data": {
      "text/plain": [
       "Ttest_1sampResult(statistic=array([-181.2912528]), pvalue=array([ 0.]))"
      ]
     },
     "execution_count": 146,
     "metadata": {},
     "output_type": "execute_result"
    }
   ],
   "source": [
    "# test that log returns belong to standard normal distribution (mean=0, std=1)\n",
    "stats.ttest_1samp(prices_norm,0)"
   ]
  },
  {
   "cell_type": "code",
   "execution_count": 124,
   "metadata": {},
   "outputs": [
    {
     "name": "stdout",
     "output_type": "stream",
     "text": [
      "Ttest_1sampResult(statistic=array([-0.56877848]), pvalue=array([ 0.56952031]))\n",
      "DescribeResult(nobs=9237, minmax=(array([-1.]), array([ 1.])), mean=array([-0.74232896]), variance=array([ 0.15487098]), skewness=array([ 2.43431122]), kurtosis=array([ 5.23351164]))\n",
      "DescribeResult(nobs=9237, minmax=(array([ 11.]), array([ 702.1])), mean=array([ 100.03822661]), variance=array([ 18492.3391454]), skewness=array([ 2.43431122]), kurtosis=array([ 5.23351164]))\n"
     ]
    }
   ],
   "source": [
    "# test normality of prices\n",
    "prices = data.loc[:, [\"close\"]]\n",
    "\n",
    "from  scipy import stats\n",
    "scaler = MinMaxScaler(feature_range=(-1,1))\n",
    "prices_norm = scaler.fit_transform(prices)\n",
    "\n",
    "print(stats.ttest_1samp(prices_norm, -0.74))\n",
    "print(sp.stats.describe(prices_norm))\n",
    "print(sp.stats.describe(prices))"
   ]
  },
  {
   "cell_type": "code",
   "execution_count": 129,
   "metadata": {},
   "outputs": [
    {
     "data": {
      "image/png": "[encoded data removed]",
      "text/plain": [
       "<matplotlib.figure.Figure at 0x116b0d630>"
      ]
     },
     "metadata": {},
     "output_type": "display_data"
    }
   ],
   "source": [
    "hist, bins = np.histogram(prices_norm, bins=50)\n",
    "width = 0.7 * (bins[1] - bins[0])\n",
    "center = (bins[:-1] + bins[1:]) / 2\n",
    "plt.bar(center, hist, align='center', width=width)\n",
    "plt.title(\"distribution of centered data\")\n",
    "plt.show()"
   ]
  },
  {
   "cell_type": "code",
   "execution_count": null,
   "metadata": {
    "collapsed": true
   },
   "outputs": [],
   "source": [
    "#test that apple and amazon have the same variance\n",
    "\n",
    "aapl = quandl.get_table('WIKI/PRICES', ticker='AAPL')\n",
    "amzn = quandl.get_table('WIKI/PRICES', ticker='AMZN')"
   ]
  }
 ],
 "metadata": {
  "kernelspec": {
   "display_name": "Python 3",
   "language": "python",
   "name": "python3"
  },
  "language_info": {
   "codemirror_mode": {
    "name": "ipython",
    "version": 3.0
   },
   "file_extension": ".py",
   "mimetype": "text/x-python",
   "name": "python",
   "nbconvert_exporter": "python",
   "pygments_lexer": "ipython3",
   "version": "3.5.2"
  }
 },
 "nbformat": 4,
 "nbformat_minor": 0
}